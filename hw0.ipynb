{
 "cells": [
  {
   "cell_type": "markdown",
   "metadata": {},
   "source": [
    "# HW 0\n",
    "\n",
    "**Due: Thursday 9/6 at 10AM**\n",
    "\n",
    "The goal of hw0 is to ensure that you are able to use the instabase infrastructure, have the programming background to take this course, and complete a communication exercise.\n",
    "\n",
    "\n",
    "\n",
    "\n",
    "\n",
    "### Jupyter Notes: _Read these carefully_\n",
    "\n",
    "* You **may** create new IPython notebook cells to use for e.g. testing, debugging, exploring, etc.- this is encouraged in fact!- **just make sure that you run the final cell to submit your results**\n",
    "  * you can press shift+enter to execute to code in the cell that your cursor is in.\n",
    "* When you see `In [*]:` to the left of the cell you are executing, this means that the code / query is _running_. Please wait for the execution to complete\n",
    "    * **If the cell is hanging- i.e. running for too long: you can restart the kernel**\n",
    "    * To restart kernel using the menu bar: \"Kernel >> Restart >> Clear all outputs & restart\"), then re-execute cells from the top\n",
    "* _Have fun!_"
   ]
  },
  {
   "cell_type": "markdown",
   "metadata": {},
   "source": [
    "### Setup Your Credentials\n",
    "\n",
    "Update the following variables"
   ]
  },
  {
   "cell_type": "code",
   "execution_count": 12,
   "metadata": {},
   "outputs": [],
   "source": [
    "# Your columbia uni.  Make sure it is the one with 4 numbers at the end!\n",
    "UNI = \"ew2493\"\n",
    "\n",
    "# your instabase username (if you go to the instabase homepage, your username should be in the URL)\n",
    "USER = \"ewu\"\n",
    "\n",
    "# your repository name containing this assignment\n",
    "REPO = \"my-repo\"\n"
   ]
  },
  {
   "cell_type": "markdown",
   "metadata": {},
   "source": [
    "# Data Analysis Task\n",
    "\n",
    "The state of Iowa released a dataset containing all sales transactions at alcoholic beverage stores during 2014. We will use this dataset for many assignments in this course. Since it contains over 3 million records, this is a small sample.\n",
    "\n",
    "You will write python code to analyze this liquor dataset.\n",
    "\n",
    "**Disclaimer: this course does not condone drinking, we are using this dataset because it is a common format for a sales transaction log in a silghtly more accessible domain than typical bank transactions**\n",
    "\n",
    "\n",
    "### Load the iowa dataset file\n",
    "\n",
    "The following is code we have written to load the contents of the iowa file into a list object.  No need to edit"
   ]
  },
  {
   "cell_type": "code",
   "execution_count": 19,
   "metadata": {},
   "outputs": [
    {
     "name": "stdout",
     "output_type": "stream",
     "text": [
      "HEADER ROW:\n",
      "DATE,CONVENIENCE STORE,STORE,NAME,ADDRESS,CITY,ZIPCODE,STORE LOCATION,COUNTY NUMBER,COUNTY,CATEGORY,CATEGORY NAME,VENDOR NO,VENDOR,ITEM,DESCRIPTION,PACK,LITER SIZE,STATE BTL COST,BTL PRICE,BOTTLE QTY,TOTAL\n",
      "\n",
      "FIRST DATA ROW:\n",
      "2015-02-26,,2515,Hy-Vee Food Store #1 / Mason City,2400 4TH ST SW,MASON CITY,50401,\"2400 4TH ST SW MASON CITY 50401 (43.148463097000047, -93.236272961999987)\",17,Cerro Gordo,1022100,TEQUILA,434,Luxco-St Louis,87937,Juarez Tequila Silver,12,1000,6.92,10.38,48,498.24\n",
      "\n",
      "Number of lines in the file: 3333\n"
     ]
    }
   ],
   "source": [
    "file_path = './iowa-liquor-sample.csv'\n",
    "f = ib.open(file_path)\n",
    "lines = [l for l in f]\n",
    "header = lines[0]\n",
    "lines = lines[1:]\n",
    "f.close()\n",
    "\n",
    "print \"HEADER ROW:\"\n",
    "print header\n",
    "\n",
    "print \"FIRST DATA ROW:\"\n",
    "print lines[0]\n",
    "\n",
    "print \"Number of lines in the file: {0}\".format(len(lines))"
   ]
  },
  {
   "cell_type": "markdown",
   "metadata": {},
   "source": [
    "### Data analysis 1\n",
    "\n",
    "Edit the following python cell to compute the number of records that contain the exact case SENSITIVE sensitive phrase \"SINGLE MALT SCOTCH\". \n",
    "\n",
    "Set variable `nsinglemalts` to the final result"
   ]
  },
  {
   "cell_type": "code",
   "execution_count": null,
   "metadata": {},
   "outputs": [],
   "source": [
    "nsinglemalts = 0\n",
    "\n",
    "# Write your code here\n",
    "    \n",
    "print \"# lines with single malt scotch: {0}\".format(nsinglemalts)"
   ]
  },
  {
   "cell_type": "markdown",
   "metadata": {},
   "source": [
    "### Data analysis 2\n",
    "\n",
    "Edit the following python cell to compute the total number of bottles of any liquor sold in this dataset.  The `BOTTLE QTY` attribute in the header corresponds to the number of bottles sold in a given sale.\n",
    "\n",
    "Set variable `totalsold` to the final result"
   ]
  },
  {
   "cell_type": "code",
   "execution_count": null,
   "metadata": {},
   "outputs": [],
   "source": [
    "totalsold = 0\n",
    "\n",
    "# Write your code here\n",
    "\n",
    "\n",
    "print \"Total bottles sold: {0}\".format(totalsold)"
   ]
  },
  {
   "cell_type": "markdown",
   "metadata": {},
   "source": [
    "# Try running some SQL queries\n",
    "\n",
    "First, run the following cell to set things up"
   ]
  },
  {
   "cell_type": "code",
   "execution_count": 54,
   "metadata": {},
   "outputs": [
    {
     "name": "stdout",
     "output_type": "stream",
     "text": [
      "OK things are setup\n"
     ]
    }
   ],
   "source": [
    "import os\n",
    "def copy_to_local(ib_file_path, local_name, skip_if_exists=True):\n",
    "    if skip_if_exists and os.path.exists(local_name): \n",
    "        return\n",
    "    with ib.open(ib_file_path, \"rb\") as f:\n",
    "        with open(local_name, \"wb\") as out:\n",
    "            out.write(f.read())\n",
    "\n",
    "# This code copies an instabase file (which is magically in the cloud somewhere) \n",
    "# onto the local machine that this notebook is running in\n",
    "copy_to_local(\"./liquor-sample.db\", \"liquor-sample.db\")\n",
    "\n",
    "print \"OK things are setup\""
   ]
  },
  {
   "cell_type": "markdown",
   "metadata": {},
   "source": [
    "### An Example\n",
    "\n",
    "The following code sets up a SQLite3 database so you can try writing some SQL queries.  Below is an example that returns the category, category name, and vendor for one record in the dataset.  The table that represents the dataset is named \"iowa\""
   ]
  },
  {
   "cell_type": "code",
   "execution_count": 76,
   "metadata": {},
   "outputs": [
    {
     "name": "stdout",
     "output_type": "stream",
     "text": [
      "('CATEGORY', 'CATEGORY NAME', 'VENDOR', 'ITEM')\n",
      "(u'1022100', u'TEQUILA', u'Luxco-St Louis', u'87937')\n",
      "(51,)\n"
     ]
    }
   ],
   "source": [
    "import sqlite3\n",
    "db = sqlite3.connect(\"liquor-sample.db\")\n",
    "\n",
    "# notice how we use back ticks (`) if the attribute name contains a space:\n",
    "query = \"\"\"\n",
    "SELECT category, `category name`, vendor \n",
    "FROM iowa \n",
    "LIMIT 1\n",
    "\"\"\"\n",
    "\n",
    "cur = db.execute(query)\n",
    "\n",
    "# print the attribute names in the result\n",
    "print zip(*cur.description)[0]\n",
    "\n",
    "# print each row\n",
    "for row in cur:\n",
    "    print row\n",
    "   \n"
   ]
  },
  {
   "cell_type": "markdown",
   "metadata": {},
   "source": [
    "### Data Analysis 3\n",
    "\n",
    "Now, edit the `sql_query` variable below with the appropriate SQL query to compute the number of rows where the \"Category Name\" attribute has the exact value \"SINGLE MALT SCOTCH\".  The result should be a single row with the total number, and should be the same as the result from Data Analysis 1."
   ]
  },
  {
   "cell_type": "code",
   "execution_count": null,
   "metadata": {},
   "outputs": [],
   "source": [
    "sql_query = \"\"\"\n",
    "WRITE YOUR QUERY HERE\n",
    "\"\"\"\n",
    "\n",
    "cur = db.execute(sql_query)\n",
    "for row in cur:\n",
    "    print row"
   ]
  },
  {
   "cell_type": "markdown",
   "metadata": {},
   "source": [
    "# Writing Task\n",
    "\n",
    "Don't forget to [Submit The Google Form](https://goo.gl/forms/Tq0mq22E5qGfv4ZQ2)!"
   ]
  },
  {
   "cell_type": "markdown",
   "metadata": {},
   "source": [
    "### Create your submission file\n",
    "\n",
    "Run the following cell to create a results file for your homework\n",
    "\n",
    "DO NOT MODIFY THE FOLLOWING CELL!!"
   ]
  },
  {
   "cell_type": "code",
   "execution_count": null,
   "metadata": {},
   "outputs": [],
   "source": [
    "import datetime\n",
    "import json\n",
    "\n",
    "script_path = '{0}/{1}/fs/Instabase%20Drive'.format(USER, REPO)\n",
    "\n",
    "with ib.open('./results', \"w\") as f:\n",
    "    result = dict(\n",
    "        nsinglemalts=nsinglemalts,\n",
    "        totalsold=totalsold,\n",
    "        sql_query=sql_query,\n",
    "        uni=UNI,\n",
    "        user=USER\n",
    "    )\n",
    "    f.write(json.dumps(result))\n",
    "    print \"Result file created at: {0}\".format(datetime.datetime.now())\n",
    "  \n",
    "    print\n",
    "    print \"Check your results: https://www.instabase.com/{0}/HW0/results\".format(script_path)\n"
   ]
  },
  {
   "cell_type": "markdown",
   "metadata": {},
   "source": [
    "# Submit Your Results\n",
    "\n",
    "Submit **your HW0 folder** including the `results` file at the following URL:\n",
    "\n",
    "https://www.instabase.com/apps/file-submission/cmd/submit/87b2ca5d-af99-41b7-b25f-73db1c2479c1"
   ]
  },
  {
   "cell_type": "code",
   "execution_count": null,
   "metadata": {
    "collapsed": true
   },
   "outputs": [],
   "source": []
  }
 ],
 "metadata": {
  "anaconda-cloud": {},
  "kernelspec": {
   "display_name": "Python 2",
   "language": "python",
   "name": "python2"
  },
  "language_info": {
   "codemirror_mode": {
    "name": "ipython",
    "version": 2
   },
   "file_extension": ".py",
   "mimetype": "text/x-python",
   "name": "python",
   "nbconvert_exporter": "python",
   "pygments_lexer": "ipython2",
   "version": "2.7.14"
  }
 },
 "nbformat": 4,
 "nbformat_minor": 1
}
