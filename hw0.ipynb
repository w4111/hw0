{
 "cells": [
  {
   "cell_type": "markdown",
   "metadata": {},
   "source": [
    "# HW 0\n",
    "\n",
    "**Due: 10AM**\n",
    "\n",
    "The goal of hw0 is to ensure that you are able to use the CoLab infrastructure and complete a communication exercise.\n",
    "\n",
    "\n",
    "### Jupyter Notes: _Read these carefully_\n",
    "\n",
    "* You **may** create new IPython notebook cells to use for e.g. testing, debugging, exploring, etc.- this is encouraged in fact!- **just make sure that you run the final cell to submit your results**\n",
    "  * you can press shift+enter to execute to code in the cell that your cursor is in.\n",
    "* When you see `In [*]:` to the left of the cell you are executing, this means that the code / query is _running_. Please wait for the execution to complete\n",
    "    * **If the cell is hanging- i.e. running for too long: you can restart the kernel**\n",
    "    * To restart kernel using the menu bar: \"Kernel >> Restart >> Clear all outputs & restart\"), then re-execute cells from the top\n",
    "* _Have fun!_"
   ]
  },
  {
   "cell_type": "markdown",
   "metadata": {},
   "source": [
    "### Setup Your Credentials\n",
    "\n",
    "Update the following variables"
   ]
  },
  {
   "cell_type": "code",
   "execution_count": null,
   "metadata": {},
   "outputs": [],
   "source": [
    "# Your columbia uni.  Make sure it is the one with 4 numbers at the end!\n",
    "UNI = \"ew2493\""
   ]
  },
  {
   "cell_type": "markdown",
   "metadata": {},
   "source": [
    "# Data Analysis Task\n",
    "\n",
    "This dataset contains information comparing the charges for the 100 most common inpatient services and 30 common outpatient services.     [Click here to see where we downloaded the dataset](https://data.world/data-society/hospital-charge-data).\n",
    "\n",
    "The dataset contains the definition of a condition (`def`), the provider (hospital) id, name, and location information, the number of patients discharged in 2011, and costs.\n",
    "\n",
    "You will write python code to analyze this liquor dataset.\n",
    "\n",
    "\n",
    "\n",
    "### Load the dataset as a CSV file"
   ]
  },
  {
   "cell_type": "code",
   "execution_count": null,
   "metadata": {},
   "outputs": [],
   "source": [
    "file_path = './inpatient.csv'\n",
    "f = open(file_path)\n",
    "lines = [l for l in f]\n",
    "header = lines[0]\n",
    "lines = lines[1:]\n",
    "f.close()\n",
    "\n",
    "print(\"HEADER ROW:\")\n",
    "print(header)\n",
    "\n",
    "print(\"FIRST DATA ROW:\")\n",
    "print(lines[0])\n",
    "\n",
    "print(\"Number of lines in the file: {0}\".format(len(lines)))"
   ]
  },
  {
   "cell_type": "markdown",
   "metadata": {},
   "source": [
    "### Data analysis 1\n",
    "\n",
    "Edit the following python cell to compute the number of records that contain the exact case SENSITIVE sensitive phrase \"313 - CHEST PAIN\". \n",
    "\n",
    "Set variable `nchestpain` to the final result"
   ]
  },
  {
   "cell_type": "code",
   "execution_count": null,
   "metadata": {},
   "outputs": [],
   "source": [
    "nchestpain = 0\n",
    "\n",
    "# Write your code here\n",
    "for line in lines:\n",
    "    if True:\n",
    "        nchestpain += 1\n",
    "    \n",
    "print(\"# lines with '313 - CHEST PAIN': {0}\".format(nchestpain))"
   ]
  },
  {
   "cell_type": "markdown",
   "metadata": {},
   "source": [
    "### Data analysis 2\n",
    "\n",
    "Edit the following python cell to compute the total number of hospital discharges in the dataset. The `total_discharges` attribute corresponds to the number of patients discharged from a given hospital for a given condition (`def`).\n",
    "\n",
    "Set variable `ndischarged` to the final result"
   ]
  },
  {
   "cell_type": "code",
   "execution_count": null,
   "metadata": {},
   "outputs": [],
   "source": [
    "ndischarged = 0\n",
    "\n",
    "# Write your code here\n",
    "for line in lines:\n",
    "    values = line.split(\",\")\n",
    "    if True:\n",
    "        ndischarged += 1\n",
    "\n",
    "print(\"Total # discharged: {0}\".format(ndischarged))"
   ]
  },
  {
   "cell_type": "markdown",
   "metadata": {},
   "source": [
    "# Try running some SQL queries\n",
    "\n"
   ]
  },
  {
   "cell_type": "markdown",
   "metadata": {},
   "source": [
    "### An Example\n",
    "\n",
    "The following code sets up a SQLite3 database so you can try writing some SQL queries.  Below is an example that returns the category, category name, and vendor for one record in the dataset.  The table that represents the dataset is named \"inpatient\""
   ]
  },
  {
   "cell_type": "code",
   "execution_count": null,
   "metadata": {},
   "outputs": [],
   "source": [
    "import sqlite3\n",
    "db = sqlite3.connect(\"inpatient.db\")\n",
    "\n",
    "# notice how we use back ticks (`) if the attribute name contains a space:\n",
    "query = \"\"\"\n",
    "SELECT def, `name`, total_discharges, avg_total_payments\n",
    "FROM inpatient \n",
    "LIMIT 2\n",
    "\"\"\"\n",
    "\n",
    "cur = db.execute(query)\n",
    "\n",
    "# print the attribute names in the result\n",
    "print([l[0] for l in cur.description])\n",
    "\n",
    "# print each row\n",
    "for row in cur:\n",
    "    print(row)\n",
    "   \n"
   ]
  },
  {
   "cell_type": "markdown",
   "metadata": {},
   "source": [
    "### Data Analysis 3\n",
    "\n",
    "Now, edit the `sql_query` variable below with the appropriate SQL query to compute the number of rows where the `def` attribute has the value `313 - CHEST PAIN`.  The result should be a single row with the total number, and should be the same as the result from Data Analysis 1."
   ]
  },
  {
   "cell_type": "code",
   "execution_count": null,
   "metadata": {},
   "outputs": [],
   "source": [
    "sql_query = \"\"\"\n",
    "WRITE YOUR QUERY HERE\n",
    "\"\"\"\n",
    "\n",
    "cur = db.execute(sql_query)\n",
    "for row in cur:\n",
    "    print(row)"
   ]
  },
  {
   "cell_type": "markdown",
   "metadata": {},
   "source": [
    "# Writing Task\n",
    "\n",
    "Don't forget to [Submit The Google Form](https://goo.gl/forms/Tq0mq22E5qGfv4ZQ2)!"
   ]
  },
  {
   "cell_type": "markdown",
   "metadata": {},
   "source": [
    "### Create your submission file\n",
    "\n",
    "Run the following cell to create a results file for your homework\n",
    "\n",
    "DO NOT MODIFY THE FOLLOWING CELL!!"
   ]
  },
  {
   "cell_type": "code",
   "execution_count": null,
   "metadata": {},
   "outputs": [],
   "source": [
    "import datetime\n",
    "import json\n",
    "\n",
    "\n",
    "result = dict(\n",
    "    nchestpain=nchestpain,\n",
    "    ndischarged=ndischarged,\n",
    "    sql_query=sql_query,\n",
    "    uni=UNI\n",
    ")\n",
    "# f.write(json.dumps(result))\n",
    "\n",
    "print(result)"
   ]
  },
  {
   "cell_type": "markdown",
   "metadata": {},
   "source": [
    "# Submit Your Results\n",
    "\n"
   ]
  },
  {
   "cell_type": "code",
   "execution_count": null,
   "metadata": {},
   "outputs": [],
   "source": []
  }
 ],
 "metadata": {
  "anaconda-cloud": {},
  "kernelspec": {
   "display_name": "Python 3",
   "language": "python",
   "name": "python3"
  },
  "language_info": {
   "codemirror_mode": {
    "name": "ipython",
    "version": 3
   },
   "file_extension": ".py",
   "mimetype": "text/x-python",
   "name": "python",
   "nbconvert_exporter": "python",
   "pygments_lexer": "ipython3",
   "version": "3.8.3"
  }
 },
 "nbformat": 4,
 "nbformat_minor": 1
}
